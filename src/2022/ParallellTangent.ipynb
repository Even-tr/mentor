{
 "cells": [
  {
   "cell_type": "markdown",
   "id": "9e763868",
   "metadata": {},
   "source": [
    "# Parallelle Tangenter\n",
    "\n",
    "Vi skal i denne artikkelen se på parallelle tangenter i polynomer av tredje grad. Generelt kan disse polynomene uttrykkes slik:\n",
    "\n",
    "\\begin{align}\n",
    "f(x) &= ax^3 + bx^2 + cx + d\n",
    "\\end{align}\n",
    "\n",
    "Om den deriveres får vi følgende funksjon:\n",
    "\n",
    "\\begin{align}\n",
    "f'(x) &= 3ax^2 + 2bx + c\n",
    "\\end{align}\n",
    "\n",
    "Som er et vanlig annengradspolynom. Ved å bestemme $a, b, c, d$ kan vi dermed bestemme alle mulig"
   ]
  }
 ],
 "metadata": {
  "kernelspec": {
   "display_name": "Python 3.9.7 64-bit",
   "language": "python",
   "name": "python397jvsc74a57bd0b0fa6594d8f4cbf19f97940f81e996739fb7646882a419484c72d19e05852a7e"
  },
  "language_info": {
   "codemirror_mode": {
    "name": "ipython",
    "version": 3
   },
   "file_extension": ".py",
   "mimetype": "text/x-python",
   "name": "python",
   "nbconvert_exporter": "python",
   "pygments_lexer": "ipython3",
   "version": "3.9.12"
  }
 },
 "nbformat": 4,
 "nbformat_minor": 5
}
